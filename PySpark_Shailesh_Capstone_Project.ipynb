{
  "cells": [
    {
      "cell_type": "markdown",
      "metadata": {
        "id": "imQU46OV-3xx"
      },
      "source": [
        "# Capstone PySpark Project by R Shailesh\n",
        "\n",
        "# Introduction\n",
        "\n",
        "### This is a historical dataset on the Olympic Games, including all the Games from 2000 to 2012 in which thousands of athletes from around the world participate in a variety of competitions. The Olympic Games are considered the world’s foremost sports competition with more than 100 nations participating. The total number of sports in this Olympics dataset is 49 and for every event there are winners. It includes the name of the player, country, medals won and year of the olympics\n",
        "\n",
        "**Data Description**\n",
        "\n",
        "8618 observations with 10 variables\n",
        "\n",
        "- name: Name of the Player\n",
        "- age: Age of the Player\n",
        "- country: Name of the Player's Country \n",
        "- year: year of the olympics\n",
        "- Date_Given: Date of the event\n",
        "- sports: Name of the sport in which the player participated\n",
        "- gold_medal: No of gold medals player won\n",
        "- silver_medal: No of silver medals player won\n",
        "- bronze_medal: No of bronze medals player won\n",
        "- total_medal: Total no of medals player won"
      ]
    },
    {
      "cell_type": "markdown",
      "metadata": {
        "id": "AgvWplLSwW0y"
      },
      "source": [
        "#### **Installing Pyspark, Spark Session, SparkContext, SparkConf and SQLContext**"
      ]
    },
    {
      "cell_type": "code",
      "execution_count": null,
      "metadata": {
        "colab": {
          "base_uri": "https://localhost:8080/"
        },
        "id": "q6-SP875ytLd",
        "outputId": "31c0f7c2-2830-424f-88ac-e17e2980ee6b"
      },
      "outputs": [
        {
          "name": "stdout",
          "output_type": "stream",
          "text": [
            "Looking in indexes: https://pypi.org/simple, https://us-python.pkg.dev/colab-wheels/public/simple/\n",
            "Collecting pyspark\n",
            "  Downloading pyspark-3.3.0.tar.gz (281.3 MB)\n",
            "\u001b[K     |████████████████████████████████| 281.3 MB 50 kB/s \n",
            "\u001b[?25hCollecting py4j==0.10.9.5\n",
            "  Downloading py4j-0.10.9.5-py2.py3-none-any.whl (199 kB)\n",
            "\u001b[K     |████████████████████████████████| 199 kB 66.5 MB/s \n",
            "\u001b[?25hBuilding wheels for collected packages: pyspark\n",
            "  Building wheel for pyspark (setup.py) ... \u001b[?25l\u001b[?25hdone\n",
            "  Created wheel for pyspark: filename=pyspark-3.3.0-py2.py3-none-any.whl size=281764026 sha256=75ce6e93e57bb5395576b6cf680af99a812ab63474f3c1a25f27ad84b02a8bc6\n",
            "  Stored in directory: /root/.cache/pip/wheels/7a/8e/1b/f73a52650d2e5f337708d9f6a1750d451a7349a867f928b885\n",
            "Successfully built pyspark\n",
            "Installing collected packages: py4j, pyspark\n",
            "Successfully installed py4j-0.10.9.5 pyspark-3.3.0\n"
          ]
        }
      ],
      "source": [
        "pip install pyspark #installing pyspark"
      ]
    },
    {
      "cell_type": "code",
      "execution_count": null,
      "metadata": {
        "colab": {
          "base_uri": "https://localhost:8080/"
        },
        "id": "ZnzyZW91y6OL",
        "outputId": "ff73cdb8-51fe-4458-a8b8-4a31b2aba1fe"
      },
      "outputs": [
        {
          "name": "stderr",
          "output_type": "stream",
          "text": [
            "/usr/local/lib/python3.7/dist-packages/pyspark/sql/context.py:114: FutureWarning: Deprecated in 3.0.0. Use SparkSession.builder.getOrCreate() instead.\n",
            "  FutureWarning,\n"
          ]
        }
      ],
      "source": [
        "from pyspark import SparkContext, SparkConf\n",
        "from pyspark.sql import SparkSession\n",
        "from pyspark.sql import SQLContext\n",
        "from pyspark.sql.functions import *\n",
        "\n",
        "conf = SparkConf().setAppName(\"sample_app\")\n",
        "sc = SparkContext(conf=conf)\n",
        "spark = SparkSession.builder.appName('Test').getOrCreate()\n",
        "sqlContext = SQLContext(sc)"
      ]
    },
    {
      "cell_type": "markdown",
      "metadata": {
        "id": "xyDsdL1SSMzX"
      },
      "source": [
        "#### 1. Write PySpark code to read the olympix_data.csv file"
      ]
    },
    {
      "cell_type": "code",
      "execution_count": null,
      "metadata": {
        "id": "OgIQnbsARjX2"
      },
      "outputs": [],
      "source": [
        "df = spark.read.format('csv').option('header','true').option('inferSchema','true').load('/content/olympix_data_organized_with_header (1) (1).csv') #reading the csv file"
      ]
    },
    {
      "cell_type": "code",
      "execution_count": null,
      "metadata": {
        "colab": {
          "base_uri": "https://localhost:8080/"
        },
        "id": "3i2uTqP3ST78",
        "outputId": "a8305be1-df9e-4186-946d-0985787e59de"
      },
      "outputs": [
        {
          "name": "stdout",
          "output_type": "stream",
          "text": [
            "+--------------------+---+-------------+----+----------+--------------------+----------+------------+-----------+-----------+\n",
            "|                name|age|      country|year|Date_Given|              sports|gold_medal|silver_medal|brone_medal|total_medal|\n",
            "+--------------------+---+-------------+----+----------+--------------------+----------+------------+-----------+-----------+\n",
            "|      Michael Phelps| 23|United States|2008| 8/24/2008|            Swimming|         8|           0|          0|          8|\n",
            "|      Michael Phelps| 19|United States|2004| 8/29/2004|            Swimming|         6|           0|          2|          8|\n",
            "|      Michael Phelps| 27|United States|2012|08-12-2012|            Swimming|         4|           2|          0|          6|\n",
            "|    Natalie Coughlin| 25|United States|2008| 8/24/2008|            Swimming|         1|           2|          3|          6|\n",
            "|       Aleksey Nemov| 24|       Russia|2000|10-01-2000|          Gymnastics|         2|           1|          3|          6|\n",
            "|       Alicia Coutts| 24|    Australia|2012|08-12-2012|            Swimming|         1|           3|          1|          5|\n",
            "|      Missy Franklin| 17|United States|2012|08-12-2012|            Swimming|         4|           0|          1|          5|\n",
            "|         Ryan Lochte| 27|United States|2012|08-12-2012|            Swimming|         2|           2|          1|          5|\n",
            "|     Allison Schmitt| 22|United States|2012|08-12-2012|            Swimming|         3|           1|          1|          5|\n",
            "|    Natalie Coughlin| 21|United States|2004| 8/29/2004|            Swimming|         2|           2|          1|          5|\n",
            "|          Ian Thorpe| 17|    Australia|2000|10-01-2000|            Swimming|         3|           2|          0|          5|\n",
            "|         Dara Torres| 33|United States|2000|10-01-2000|            Swimming|         2|           0|          3|          5|\n",
            "|       Cindy Klassen| 26|       Canada|2006| 2/26/2006|       Speed Skating|         1|           2|          2|          5|\n",
            "|       Nastia Liukin| 18|United States|2008| 8/24/2008|          Gymnastics|         1|           3|          1|          5|\n",
            "|       Marit Bjørgen| 29|       Norway|2010| 2/28/2010|Cross Country Skiing|         3|           1|          1|          5|\n",
            "|            Sun Yang| 20|        China|2012|08-12-2012|            Swimming|         2|           1|          1|          4|\n",
            "|     Kirsty Coventry| 24|     Zimbabwe|2008| 8/24/2008|            Swimming|         1|           3|          0|          4|\n",
            "|Libby Lenton-Tric...| 23|    Australia|2008| 8/24/2008|            Swimming|         2|           1|          1|          4|\n",
            "|         Ryan Lochte| 24|United States|2008| 8/24/2008|            Swimming|         2|           0|          2|          4|\n",
            "|      Inge de Bruijn| 30|  Netherlands|2004| 8/29/2004|            Swimming|         1|           1|          2|          4|\n",
            "+--------------------+---+-------------+----+----------+--------------------+----------+------------+-----------+-----------+\n",
            "only showing top 20 rows\n",
            "\n"
          ]
        }
      ],
      "source": [
        "df.show() #using show function to view the dataset"
      ]
    },
    {
      "cell_type": "code",
      "execution_count": null,
      "metadata": {
        "colab": {
          "base_uri": "https://localhost:8080/"
        },
        "id": "m_NJN3ZHS_6a",
        "outputId": "01156587-780f-4417-e6b4-6fe0ef0fc47a"
      },
      "outputs": [
        {
          "name": "stdout",
          "output_type": "stream",
          "text": [
            "root\n",
            " |-- name: string (nullable = true)\n",
            " |-- age: integer (nullable = true)\n",
            " |-- country: string (nullable = true)\n",
            " |-- year: integer (nullable = true)\n",
            " |-- Date_Given: string (nullable = true)\n",
            " |-- sports: string (nullable = true)\n",
            " |-- gold_medal: integer (nullable = true)\n",
            " |-- silver_medal: integer (nullable = true)\n",
            " |-- brone_medal: integer (nullable = true)\n",
            " |-- total_medal: integer (nullable = true)\n",
            "\n"
          ]
        }
      ],
      "source": [
        "df.printSchema() #using print schema to get the datatypes of all columns"
      ]
    },
    {
      "cell_type": "code",
      "execution_count": null,
      "metadata": {
        "colab": {
          "base_uri": "https://localhost:8080/"
        },
        "id": "qc0rmKHNQCx8",
        "outputId": "c66425eb-8a56-44c5-8ebb-5a686ac73bec"
      },
      "outputs": [
        {
          "name": "stdout",
          "output_type": "stream",
          "text": [
            "+----+----+---------+----+----------+----------+----------+------------+-----------+-----------+\n",
            "|name| age|  country|year|Date_Given|    sports|gold_medal|silver_medal|brone_medal|total_medal|\n",
            "+----+----+---------+----+----------+----------+----------+------------+-----------+-----------+\n",
            "|null|null|   Brazil|2012|08-12-2012|Volleyball|         0|           1|          0|          1|\n",
            "|null|null|   Brazil|2012|08-12-2012|Volleyball|         0|           1|          0|          1|\n",
            "|null|null|   Brazil|2012|08-12-2012|Volleyball|         0|           1|          0|          1|\n",
            "|null|null|Argentina|2012|08-12-2012|    Hockey|         0|           1|          0|          1|\n",
            "|null|null|Argentina|2012|08-12-2012|    Hockey|         0|           1|          0|          1|\n",
            "+----+----+---------+----+----------+----------+----------+------------+-----------+-----------+\n",
            "\n"
          ]
        }
      ],
      "source": [
        "df.filter(df.name.isNull()).show() # finding the null values in the dataset using isnull function"
      ]
    },
    {
      "cell_type": "markdown",
      "metadata": {
        "id": "X2H7Ps_CAhW7"
      },
      "source": [
        "**These null values cannot be dropped since it has medals won, country and sports associated with it, so filling the name of the participant with a generic value 'Player' and age as 26 which is the median found in the step 1 Python and DS**"
      ]
    },
    {
      "cell_type": "code",
      "execution_count": null,
      "metadata": {
        "id": "NVR3YR4yO6jB"
      },
      "outputs": [],
      "source": [
        "df = df.na.fill({'age':26, 'name':'Player'}) # filling the name and age null values"
      ]
    },
    {
      "cell_type": "code",
      "execution_count": null,
      "metadata": {
        "colab": {
          "base_uri": "https://localhost:8080/"
        },
        "id": "p7_ZXaLyRIux",
        "outputId": "ca255702-2dfc-4c5f-a6fe-f31e65e361b8"
      },
      "outputs": [
        {
          "name": "stdout",
          "output_type": "stream",
          "text": [
            "+----+---+-------+----+----------+------+----------+------------+-----------+-----------+\n",
            "|name|age|country|year|Date_Given|sports|gold_medal|silver_medal|brone_medal|total_medal|\n",
            "+----+---+-------+----+----------+------+----------+------------+-----------+-----------+\n",
            "+----+---+-------+----+----------+------+----------+------------+-----------+-----------+\n",
            "\n"
          ]
        }
      ],
      "source": [
        "df.filter(df.age.isNull()).show() # finding the null values in the dataset after filling"
      ]
    },
    {
      "cell_type": "markdown",
      "metadata": {
        "id": "EoJa7s88EMJW"
      },
      "source": [
        "##### using udf to convert the date column to datetime format"
      ]
    },
    {
      "cell_type": "code",
      "execution_count": null,
      "metadata": {
        "id": "iMs-kLXpWjQ7"
      },
      "outputs": [],
      "source": [
        "@udf # using udf annotation\n",
        "def replc_date(x):\n",
        "  if x.count('/'): #checking if the date has slash in it\n",
        "    temp = x.split('/') # splitting for every slash\n",
        "    if len(temp[1]) == 1: temp[1] = '0'+temp[1] # appending 0 to the beginning of the date if the length of the date is 1\n",
        "    if len(temp[0]) == 1: temp[0] = '0'+temp[0] # appending 0 to the beginning of the month if the length of the date is 1\n",
        "    return temp[1]+'-'+temp[0]+'-'+temp[2] #returning after appending 0 and correctly positioning the date so that \n",
        "  else: return x # if the date doesn't contain slash return as it is"
      ]
    },
    {
      "cell_type": "code",
      "execution_count": null,
      "metadata": {
        "colab": {
          "base_uri": "https://localhost:8080/"
        },
        "id": "uS7mg19HUxOM",
        "outputId": "082237b7-2b0c-4958-cc24-27b682361a97"
      },
      "outputs": [
        {
          "name": "stdout",
          "output_type": "stream",
          "text": [
            "+--------------------+---+-------------+----+----------+--------------------+----------+------------+-----------+-----------+\n",
            "|                name|age|      country|year|Date_Given|              sports|gold_medal|silver_medal|brone_medal|total_medal|\n",
            "+--------------------+---+-------------+----+----------+--------------------+----------+------------+-----------+-----------+\n",
            "|      Michael Phelps| 23|United States|2008|24-08-2008|            Swimming|         8|           0|          0|          8|\n",
            "|      Michael Phelps| 19|United States|2004|29-08-2004|            Swimming|         6|           0|          2|          8|\n",
            "|      Michael Phelps| 27|United States|2012|08-12-2012|            Swimming|         4|           2|          0|          6|\n",
            "|    Natalie Coughlin| 25|United States|2008|24-08-2008|            Swimming|         1|           2|          3|          6|\n",
            "|       Aleksey Nemov| 24|       Russia|2000|10-01-2000|          Gymnastics|         2|           1|          3|          6|\n",
            "|       Alicia Coutts| 24|    Australia|2012|08-12-2012|            Swimming|         1|           3|          1|          5|\n",
            "|      Missy Franklin| 17|United States|2012|08-12-2012|            Swimming|         4|           0|          1|          5|\n",
            "|         Ryan Lochte| 27|United States|2012|08-12-2012|            Swimming|         2|           2|          1|          5|\n",
            "|     Allison Schmitt| 22|United States|2012|08-12-2012|            Swimming|         3|           1|          1|          5|\n",
            "|    Natalie Coughlin| 21|United States|2004|29-08-2004|            Swimming|         2|           2|          1|          5|\n",
            "|          Ian Thorpe| 17|    Australia|2000|10-01-2000|            Swimming|         3|           2|          0|          5|\n",
            "|         Dara Torres| 33|United States|2000|10-01-2000|            Swimming|         2|           0|          3|          5|\n",
            "|       Cindy Klassen| 26|       Canada|2006|26-02-2006|       Speed Skating|         1|           2|          2|          5|\n",
            "|       Nastia Liukin| 18|United States|2008|24-08-2008|          Gymnastics|         1|           3|          1|          5|\n",
            "|       Marit Bjørgen| 29|       Norway|2010|28-02-2010|Cross Country Skiing|         3|           1|          1|          5|\n",
            "|            Sun Yang| 20|        China|2012|08-12-2012|            Swimming|         2|           1|          1|          4|\n",
            "|     Kirsty Coventry| 24|     Zimbabwe|2008|24-08-2008|            Swimming|         1|           3|          0|          4|\n",
            "|Libby Lenton-Tric...| 23|    Australia|2008|24-08-2008|            Swimming|         2|           1|          1|          4|\n",
            "|         Ryan Lochte| 24|United States|2008|24-08-2008|            Swimming|         2|           0|          2|          4|\n",
            "|      Inge de Bruijn| 30|  Netherlands|2004|29-08-2004|            Swimming|         1|           1|          2|          4|\n",
            "+--------------------+---+-------------+----+----------+--------------------+----------+------------+-----------+-----------+\n",
            "only showing top 20 rows\n",
            "\n"
          ]
        }
      ],
      "source": [
        "df = df.withColumn('Date_Given', replc_date(col('Date_Given'))) # using withcolumn function to replace the date_given column with properly formatted date\n",
        "df.show() # checking if the date column is correctly formatted"
      ]
    },
    {
      "cell_type": "code",
      "execution_count": null,
      "metadata": {
        "colab": {
          "base_uri": "https://localhost:8080/"
        },
        "id": "9yLGz8nNSPr6",
        "outputId": "e493ce96-4f1a-4582-e878-a6f176f74448"
      },
      "outputs": [
        {
          "name": "stdout",
          "output_type": "stream",
          "text": [
            "+--------------------+---+-------------+----+----------+--------------------+----------+------------+-----------+-----------+\n",
            "|                name|age|      country|year|Date_Given|              sports|gold_medal|silver_medal|brone_medal|total_medal|\n",
            "+--------------------+---+-------------+----+----------+--------------------+----------+------------+-----------+-----------+\n",
            "|      Michael Phelps| 23|United States|2008|2008-08-24|            Swimming|         8|           0|          0|          8|\n",
            "|      Michael Phelps| 19|United States|2004|2004-08-29|            Swimming|         6|           0|          2|          8|\n",
            "|      Michael Phelps| 27|United States|2012|2012-12-08|            Swimming|         4|           2|          0|          6|\n",
            "|    Natalie Coughlin| 25|United States|2008|2008-08-24|            Swimming|         1|           2|          3|          6|\n",
            "|       Aleksey Nemov| 24|       Russia|2000|2000-01-10|          Gymnastics|         2|           1|          3|          6|\n",
            "|       Alicia Coutts| 24|    Australia|2012|2012-12-08|            Swimming|         1|           3|          1|          5|\n",
            "|      Missy Franklin| 17|United States|2012|2012-12-08|            Swimming|         4|           0|          1|          5|\n",
            "|         Ryan Lochte| 27|United States|2012|2012-12-08|            Swimming|         2|           2|          1|          5|\n",
            "|     Allison Schmitt| 22|United States|2012|2012-12-08|            Swimming|         3|           1|          1|          5|\n",
            "|    Natalie Coughlin| 21|United States|2004|2004-08-29|            Swimming|         2|           2|          1|          5|\n",
            "|          Ian Thorpe| 17|    Australia|2000|2000-01-10|            Swimming|         3|           2|          0|          5|\n",
            "|         Dara Torres| 33|United States|2000|2000-01-10|            Swimming|         2|           0|          3|          5|\n",
            "|       Cindy Klassen| 26|       Canada|2006|2006-02-26|       Speed Skating|         1|           2|          2|          5|\n",
            "|       Nastia Liukin| 18|United States|2008|2008-08-24|          Gymnastics|         1|           3|          1|          5|\n",
            "|       Marit Bjørgen| 29|       Norway|2010|2010-02-28|Cross Country Skiing|         3|           1|          1|          5|\n",
            "|            Sun Yang| 20|        China|2012|2012-12-08|            Swimming|         2|           1|          1|          4|\n",
            "|     Kirsty Coventry| 24|     Zimbabwe|2008|2008-08-24|            Swimming|         1|           3|          0|          4|\n",
            "|Libby Lenton-Tric...| 23|    Australia|2008|2008-08-24|            Swimming|         2|           1|          1|          4|\n",
            "|         Ryan Lochte| 24|United States|2008|2008-08-24|            Swimming|         2|           0|          2|          4|\n",
            "|      Inge de Bruijn| 30|  Netherlands|2004|2004-08-29|            Swimming|         1|           1|          2|          4|\n",
            "+--------------------+---+-------------+----+----------+--------------------+----------+------------+-----------+-----------+\n",
            "only showing top 20 rows\n",
            "\n"
          ]
        }
      ],
      "source": [
        "df = df.withColumn('Date_Given',to_date(col(\"Date_Given\"),\"dd-MM-yyyy\")) # converting the date column datatype to datetime format\n",
        "df.show()"
      ]
    },
    {
      "cell_type": "code",
      "execution_count": null,
      "metadata": {
        "colab": {
          "base_uri": "https://localhost:8080/"
        },
        "id": "CLY5ttFcdzMR",
        "outputId": "aa3fb768-f1fb-443e-8145-ad67078fd9a1"
      },
      "outputs": [
        {
          "name": "stdout",
          "output_type": "stream",
          "text": [
            "root\n",
            " |-- name: string (nullable = false)\n",
            " |-- age: integer (nullable = false)\n",
            " |-- country: string (nullable = true)\n",
            " |-- year: integer (nullable = true)\n",
            " |-- Date_Given: date (nullable = true)\n",
            " |-- sports: string (nullable = true)\n",
            " |-- gold_medal: integer (nullable = true)\n",
            " |-- silver_medal: integer (nullable = true)\n",
            " |-- brone_medal: integer (nullable = true)\n",
            " |-- total_medal: integer (nullable = true)\n",
            "\n"
          ]
        }
      ],
      "source": [
        "df.printSchema() # checking if the datatype is date"
      ]
    },
    {
      "cell_type": "markdown",
      "metadata": {
        "id": "exhSjLqoSZTx"
      },
      "source": [
        "#### 2. Write PySpark code to print the Olympic Sports/games in the dataset."
      ]
    },
    {
      "cell_type": "code",
      "execution_count": null,
      "metadata": {
        "colab": {
          "base_uri": "https://localhost:8080/"
        },
        "id": "uk365vs9Sbzi",
        "outputId": "78271c93-5e16-4c4b-8145-42d4d288cc53"
      },
      "outputs": [
        {
          "name": "stdout",
          "output_type": "stream",
          "text": [
            "+--------------------+\n",
            "|              sports|\n",
            "+--------------------+\n",
            "|       Alpine Skiing|\n",
            "|             Archery|\n",
            "|           Athletics|\n",
            "|           Badminton|\n",
            "|            Baseball|\n",
            "|          Basketball|\n",
            "|    Beach Volleyball|\n",
            "|            Biathlon|\n",
            "|           Bobsleigh|\n",
            "|              Boxing|\n",
            "|            Canoeing|\n",
            "|Cross Country Skiing|\n",
            "|             Curling|\n",
            "|             Cycling|\n",
            "|              Diving|\n",
            "|          Equestrian|\n",
            "|             Fencing|\n",
            "|      Figure Skating|\n",
            "|            Football|\n",
            "|    Freestyle Skiing|\n",
            "|          Gymnastics|\n",
            "|            Handball|\n",
            "|              Hockey|\n",
            "|          Ice Hockey|\n",
            "|                Judo|\n",
            "|                Luge|\n",
            "|   Modern Pentathlon|\n",
            "|     Nordic Combined|\n",
            "| Rhythmic Gymnastics|\n",
            "|              Rowing|\n",
            "|             Sailing|\n",
            "|            Shooting|\n",
            "|Short-Track Speed...|\n",
            "|            Skeleton|\n",
            "|         Ski Jumping|\n",
            "|        Snowboarding|\n",
            "|            Softball|\n",
            "|       Speed Skating|\n",
            "|            Swimming|\n",
            "|Synchronized Swim...|\n",
            "|        Table Tennis|\n",
            "|           Taekwondo|\n",
            "|              Tennis|\n",
            "|          Trampoline|\n",
            "|           Triathlon|\n",
            "|          Volleyball|\n",
            "|           Waterpolo|\n",
            "|       Weightlifting|\n",
            "|           Wrestling|\n",
            "+--------------------+\n",
            "\n"
          ]
        }
      ],
      "source": [
        "df_sports = df.select('sports').distinct() # using select function with sports and distinct to get all the sports in the dataset\n",
        "df_sports.sort('sports').show(df_sports.count()) # displaying all the sports sorted"
      ]
    },
    {
      "cell_type": "markdown",
      "metadata": {
        "id": "mNkFFnq1lLqa"
      },
      "source": [
        "#### 3. Write PySpark code to plot the total number of medals in each Olympic Sport/game"
      ]
    },
    {
      "cell_type": "code",
      "execution_count": null,
      "metadata": {
        "colab": {
          "base_uri": "https://localhost:8080/"
        },
        "id": "iXuxzF3nlOX_",
        "outputId": "f98b5b7b-82b1-4dd3-f64f-2ae83dd4c354"
      },
      "outputs": [
        {
          "name": "stdout",
          "output_type": "stream",
          "text": [
            "+--------------------+------------+\n",
            "|              sports|Total Medals|\n",
            "+--------------------+------------+\n",
            "|          Gymnastics|         282|\n",
            "|              Tennis|          78|\n",
            "|              Boxing|         188|\n",
            "|Short-Track Speed...|         138|\n",
            "|          Ice Hockey|         384|\n",
            "|              Rowing|         576|\n",
            "|                Judo|         224|\n",
            "|            Softball|         134|\n",
            "|             Sailing|         210|\n",
            "|            Swimming|         765|\n",
            "|       Alpine Skiing|          90|\n",
            "|          Basketball|         287|\n",
            "|            Handball|         351|\n",
            "| Rhythmic Gymnastics|          84|\n",
            "|            Biathlon|         138|\n",
            "|           Triathlon|          24|\n",
            "|           Badminton|          96|\n",
            "|           Athletics|         753|\n",
            "|      Figure Skating|          54|\n",
            "|    Beach Volleyball|          48|\n",
            "|          Equestrian|         182|\n",
            "|            Shooting|         192|\n",
            "|              Diving|         144|\n",
            "|            Skeleton|          18|\n",
            "|         Ski Jumping|          54|\n",
            "|     Nordic Combined|          54|\n",
            "|           Wrestling|         245|\n",
            "|       Speed Skating|         140|\n",
            "|        Table Tennis|          84|\n",
            "|           Taekwondo|         112|\n",
            "|            Canoeing|         333|\n",
            "|       Weightlifting|         180|\n",
            "|           Waterpolo|         306|\n",
            "|            Baseball|         216|\n",
            "|   Modern Pentathlon|          24|\n",
            "|        Snowboarding|          48|\n",
            "|           Bobsleigh|          72|\n",
            "|             Cycling|         306|\n",
            "|Cross Country Skiing|         174|\n",
            "|          Volleyball|         281|\n",
            "|             Archery|          96|\n",
            "|Synchronized Swim...|         129|\n",
            "|             Curling|          82|\n",
            "|             Fencing|         256|\n",
            "|              Hockey|         388|\n",
            "|    Freestyle Skiing|          42|\n",
            "|            Football|         407|\n",
            "|                Luge|          36|\n",
            "|          Trampoline|          24|\n",
            "+--------------------+------------+\n",
            "\n"
          ]
        }
      ],
      "source": [
        "df_sport = df.groupBy('sports').agg(sum('total_medal').alias('Total Medals')) #using groupby and sum function on sports and total medals respectively\n",
        "df_sport.show(df.select('sports').distinct().count()) #displaying all the sports with total medals"
      ]
    },
    {
      "cell_type": "code",
      "execution_count": null,
      "metadata": {
        "colab": {
          "base_uri": "https://localhost:8080/",
          "height": 363
        },
        "id": "08PxPrvjmnas",
        "outputId": "80469fa2-9b8c-4d88-b534-22ff31272e94"
      },
      "outputs": [
        {
          "data": {
            "text/html": [
              "\n",
              "  <div id=\"df-a7a0f90f-7066-4e3a-83aa-66d677f15529\">\n",
              "    <div class=\"colab-df-container\">\n",
              "      <div>\n",
              "<style scoped>\n",
              "    .dataframe tbody tr th:only-of-type {\n",
              "        vertical-align: middle;\n",
              "    }\n",
              "\n",
              "    .dataframe tbody tr th {\n",
              "        vertical-align: top;\n",
              "    }\n",
              "\n",
              "    .dataframe thead th {\n",
              "        text-align: right;\n",
              "    }\n",
              "</style>\n",
              "<table border=\"1\" class=\"dataframe\">\n",
              "  <thead>\n",
              "    <tr style=\"text-align: right;\">\n",
              "      <th></th>\n",
              "      <th>sports</th>\n",
              "      <th>Total Medals</th>\n",
              "    </tr>\n",
              "  </thead>\n",
              "  <tbody>\n",
              "    <tr>\n",
              "      <th>0</th>\n",
              "      <td>Gymnastics</td>\n",
              "      <td>282</td>\n",
              "    </tr>\n",
              "    <tr>\n",
              "      <th>1</th>\n",
              "      <td>Tennis</td>\n",
              "      <td>78</td>\n",
              "    </tr>\n",
              "    <tr>\n",
              "      <th>2</th>\n",
              "      <td>Boxing</td>\n",
              "      <td>188</td>\n",
              "    </tr>\n",
              "    <tr>\n",
              "      <th>3</th>\n",
              "      <td>Short-Track Speed Skating</td>\n",
              "      <td>138</td>\n",
              "    </tr>\n",
              "    <tr>\n",
              "      <th>4</th>\n",
              "      <td>Ice Hockey</td>\n",
              "      <td>384</td>\n",
              "    </tr>\n",
              "    <tr>\n",
              "      <th>5</th>\n",
              "      <td>Rowing</td>\n",
              "      <td>576</td>\n",
              "    </tr>\n",
              "    <tr>\n",
              "      <th>6</th>\n",
              "      <td>Judo</td>\n",
              "      <td>224</td>\n",
              "    </tr>\n",
              "    <tr>\n",
              "      <th>7</th>\n",
              "      <td>Softball</td>\n",
              "      <td>134</td>\n",
              "    </tr>\n",
              "    <tr>\n",
              "      <th>8</th>\n",
              "      <td>Sailing</td>\n",
              "      <td>210</td>\n",
              "    </tr>\n",
              "    <tr>\n",
              "      <th>9</th>\n",
              "      <td>Swimming</td>\n",
              "      <td>765</td>\n",
              "    </tr>\n",
              "  </tbody>\n",
              "</table>\n",
              "</div>\n",
              "      <button class=\"colab-df-convert\" onclick=\"convertToInteractive('df-a7a0f90f-7066-4e3a-83aa-66d677f15529')\"\n",
              "              title=\"Convert this dataframe to an interactive table.\"\n",
              "              style=\"display:none;\">\n",
              "        \n",
              "  <svg xmlns=\"http://www.w3.org/2000/svg\" height=\"24px\"viewBox=\"0 0 24 24\"\n",
              "       width=\"24px\">\n",
              "    <path d=\"M0 0h24v24H0V0z\" fill=\"none\"/>\n",
              "    <path d=\"M18.56 5.44l.94 2.06.94-2.06 2.06-.94-2.06-.94-.94-2.06-.94 2.06-2.06.94zm-11 1L8.5 8.5l.94-2.06 2.06-.94-2.06-.94L8.5 2.5l-.94 2.06-2.06.94zm10 10l.94 2.06.94-2.06 2.06-.94-2.06-.94-.94-2.06-.94 2.06-2.06.94z\"/><path d=\"M17.41 7.96l-1.37-1.37c-.4-.4-.92-.59-1.43-.59-.52 0-1.04.2-1.43.59L10.3 9.45l-7.72 7.72c-.78.78-.78 2.05 0 2.83L4 21.41c.39.39.9.59 1.41.59.51 0 1.02-.2 1.41-.59l7.78-7.78 2.81-2.81c.8-.78.8-2.07 0-2.86zM5.41 20L4 18.59l7.72-7.72 1.47 1.35L5.41 20z\"/>\n",
              "  </svg>\n",
              "      </button>\n",
              "      \n",
              "  <style>\n",
              "    .colab-df-container {\n",
              "      display:flex;\n",
              "      flex-wrap:wrap;\n",
              "      gap: 12px;\n",
              "    }\n",
              "\n",
              "    .colab-df-convert {\n",
              "      background-color: #E8F0FE;\n",
              "      border: none;\n",
              "      border-radius: 50%;\n",
              "      cursor: pointer;\n",
              "      display: none;\n",
              "      fill: #1967D2;\n",
              "      height: 32px;\n",
              "      padding: 0 0 0 0;\n",
              "      width: 32px;\n",
              "    }\n",
              "\n",
              "    .colab-df-convert:hover {\n",
              "      background-color: #E2EBFA;\n",
              "      box-shadow: 0px 1px 2px rgba(60, 64, 67, 0.3), 0px 1px 3px 1px rgba(60, 64, 67, 0.15);\n",
              "      fill: #174EA6;\n",
              "    }\n",
              "\n",
              "    [theme=dark] .colab-df-convert {\n",
              "      background-color: #3B4455;\n",
              "      fill: #D2E3FC;\n",
              "    }\n",
              "\n",
              "    [theme=dark] .colab-df-convert:hover {\n",
              "      background-color: #434B5C;\n",
              "      box-shadow: 0px 1px 3px 1px rgba(0, 0, 0, 0.15);\n",
              "      filter: drop-shadow(0px 1px 2px rgba(0, 0, 0, 0.3));\n",
              "      fill: #FFFFFF;\n",
              "    }\n",
              "  </style>\n",
              "\n",
              "      <script>\n",
              "        const buttonEl =\n",
              "          document.querySelector('#df-a7a0f90f-7066-4e3a-83aa-66d677f15529 button.colab-df-convert');\n",
              "        buttonEl.style.display =\n",
              "          google.colab.kernel.accessAllowed ? 'block' : 'none';\n",
              "\n",
              "        async function convertToInteractive(key) {\n",
              "          const element = document.querySelector('#df-a7a0f90f-7066-4e3a-83aa-66d677f15529');\n",
              "          const dataTable =\n",
              "            await google.colab.kernel.invokeFunction('convertToInteractive',\n",
              "                                                     [key], {});\n",
              "          if (!dataTable) return;\n",
              "\n",
              "          const docLinkHtml = 'Like what you see? Visit the ' +\n",
              "            '<a target=\"_blank\" href=https://colab.research.google.com/notebooks/data_table.ipynb>data table notebook</a>'\n",
              "            + ' to learn more about interactive tables.';\n",
              "          element.innerHTML = '';\n",
              "          dataTable['output_type'] = 'display_data';\n",
              "          await google.colab.output.renderOutput(dataTable, element);\n",
              "          const docLink = document.createElement('div');\n",
              "          docLink.innerHTML = docLinkHtml;\n",
              "          element.appendChild(docLink);\n",
              "        }\n",
              "      </script>\n",
              "    </div>\n",
              "  </div>\n",
              "  "
            ],
            "text/plain": [
              "                      sports  Total Medals\n",
              "0                 Gymnastics           282\n",
              "1                     Tennis            78\n",
              "2                     Boxing           188\n",
              "3  Short-Track Speed Skating           138\n",
              "4                 Ice Hockey           384\n",
              "5                     Rowing           576\n",
              "6                       Judo           224\n",
              "7                   Softball           134\n",
              "8                    Sailing           210\n",
              "9                   Swimming           765"
            ]
          },
          "execution_count": 15,
          "metadata": {},
          "output_type": "execute_result"
        }
      ],
      "source": [
        "df_sport_pandas = df_sport.toPandas() # using toPandas function to convert to pandas dataframe from pyspark dataframe\n",
        "df_sport_pandas.head(10)"
      ]
    },
    {
      "cell_type": "code",
      "execution_count": null,
      "metadata": {
        "colab": {
          "base_uri": "https://localhost:8080/",
          "height": 475
        },
        "id": "Q-UwH49-m_C8",
        "outputId": "d5eab91f-fb9e-4048-f1f4-c301a8dcd03d"
      },
      "outputs": [
        {
          "data": {
            "text/plain": [
              "<matplotlib.axes._subplots.AxesSubplot at 0x7f2737a4a610>"
            ]
          },
          "execution_count": 16,
          "metadata": {},
          "output_type": "execute_result"
        },
        {
          "data": {
            "image/png": "[encoded data removed]",
            "text/plain": [
              "<Figure size 5040x1152 with 1 Axes>"
            ]
          },
          "metadata": {
            "needs_background": "light"
          },
          "output_type": "display_data"
        }
      ],
      "source": [
        "import seaborn as sns #importing seaborn library for plotting graphs\n",
        "import matplotlib.pyplot as plt #importing matplotlib library to plot\n",
        "\n",
        "plt.figure(figsize=(70,16)) # resizing the figure appropriately\n",
        "sns.barplot(x='sports', y='Total Medals',data=df_sport_pandas) #using barplot to plot sports vs total medals"
      ]
    },
    {
      "cell_type": "markdown",
      "metadata": {
        "id": "5BSORyivT2b5"
      },
      "source": [
        "#### 4. Sort the result based on the total number of medals."
      ]
    },
    {
      "cell_type": "code",
      "execution_count": null,
      "metadata": {
        "colab": {
          "base_uri": "https://localhost:8080/"
        },
        "id": "lnt8Y-5oT5xb",
        "outputId": "ec1a934d-560a-4849-a75b-29c0ef4d9c33"
      },
      "outputs": [
        {
          "name": "stdout",
          "output_type": "stream",
          "text": [
            "+--------------------+---+-------------+----+----------+--------------------+----------+------------+-----------+-----------+\n",
            "|                name|age|      country|year|Date_Given|              sports|gold_medal|silver_medal|brone_medal|total_medal|\n",
            "+--------------------+---+-------------+----+----------+--------------------+----------+------------+-----------+-----------+\n",
            "|      Michael Phelps| 23|United States|2008|2008-08-24|            Swimming|         8|           0|          0|          8|\n",
            "|      Michael Phelps| 19|United States|2004|2004-08-29|            Swimming|         6|           0|          2|          8|\n",
            "|      Michael Phelps| 27|United States|2012|2012-12-08|            Swimming|         4|           2|          0|          6|\n",
            "|    Natalie Coughlin| 25|United States|2008|2008-08-24|            Swimming|         1|           2|          3|          6|\n",
            "|       Aleksey Nemov| 24|       Russia|2000|2000-01-10|          Gymnastics|         2|           1|          3|          6|\n",
            "|      Missy Franklin| 17|United States|2012|2012-12-08|            Swimming|         4|           0|          1|          5|\n",
            "|         Dara Torres| 33|United States|2000|2000-01-10|            Swimming|         2|           0|          3|          5|\n",
            "|       Nastia Liukin| 18|United States|2008|2008-08-24|          Gymnastics|         1|           3|          1|          5|\n",
            "|         Ryan Lochte| 27|United States|2012|2012-12-08|            Swimming|         2|           2|          1|          5|\n",
            "|          Ian Thorpe| 17|    Australia|2000|2000-01-10|            Swimming|         3|           2|          0|          5|\n",
            "|       Cindy Klassen| 26|       Canada|2006|2006-02-26|       Speed Skating|         1|           2|          2|          5|\n",
            "|       Marit Bjørgen| 29|       Norway|2010|2010-02-28|Cross Country Skiing|         3|           1|          1|          5|\n",
            "|     Allison Schmitt| 22|United States|2012|2012-12-08|            Swimming|         3|           1|          1|          5|\n",
            "|       Alicia Coutts| 24|    Australia|2012|2012-12-08|            Swimming|         1|           3|          1|          5|\n",
            "|    Natalie Coughlin| 21|United States|2004|2004-08-29|            Swimming|         2|           2|          1|          5|\n",
            "|            Sun Yang| 20|        China|2012|2012-12-08|            Swimming|         2|           1|          1|          4|\n",
            "|     Kirsty Coventry| 24|     Zimbabwe|2008|2008-08-24|            Swimming|         1|           3|          0|          4|\n",
            "|Libby Lenton-Tric...| 23|    Australia|2008|2008-08-24|            Swimming|         2|           1|          1|          4|\n",
            "|      Inge de Bruijn| 30|  Netherlands|2004|2004-08-29|            Swimming|         1|           1|          2|          4|\n",
            "|         Ryan Lochte| 24|United States|2008|2008-08-24|            Swimming|         2|           0|          2|          4|\n",
            "+--------------------+---+-------------+----+----------+--------------------+----------+------------+-----------+-----------+\n",
            "only showing top 20 rows\n",
            "\n"
          ]
        }
      ],
      "source": [
        "df.sort('total_medal',ascending=False).show() #using sort function on total medals column"
      ]
    },
    {
      "cell_type": "markdown",
      "metadata": {
        "id": "6Xmnx7HvUPEM"
      },
      "source": [
        "#### 5. Find the total number of medals won by each country in swimming."
      ]
    },
    {
      "cell_type": "code",
      "execution_count": null,
      "metadata": {
        "colab": {
          "base_uri": "https://localhost:8080/"
        },
        "id": "dxgfwiquUSSu",
        "outputId": "eb946870-2da4-4432-c673-a1be4e72abeb"
      },
      "outputs": [
        {
          "name": "stdout",
          "output_type": "stream",
          "text": [
            "+-------------------+------------+\n",
            "|            country|Total Medals|\n",
            "+-------------------+------------+\n",
            "|      United States|         267|\n",
            "|          Australia|         163|\n",
            "|        Netherlands|          46|\n",
            "|              Japan|          43|\n",
            "|             France|          39|\n",
            "|              China|          35|\n",
            "|            Germany|          32|\n",
            "|             Russia|          20|\n",
            "|              Italy|          16|\n",
            "|      Great Britain|          11|\n",
            "|       South Africa|          11|\n",
            "|             Sweden|           9|\n",
            "|            Hungary|           9|\n",
            "|             Brazil|           8|\n",
            "|            Ukraine|           7|\n",
            "|           Zimbabwe|           7|\n",
            "|            Romania|           6|\n",
            "|             Canada|           5|\n",
            "|        South Korea|           4|\n",
            "|             Poland|           3|\n",
            "|            Austria|           3|\n",
            "|            Tunisia|           3|\n",
            "|              Spain|           3|\n",
            "|             Norway|           2|\n",
            "|         Costa Rica|           2|\n",
            "|            Belarus|           2|\n",
            "|           Slovakia|           2|\n",
            "|          Argentina|           1|\n",
            "|Trinidad and Tobago|           1|\n",
            "|            Croatia|           1|\n",
            "|           Slovenia|           1|\n",
            "|          Lithuania|           1|\n",
            "|             Serbia|           1|\n",
            "|            Denmark|           1|\n",
            "+-------------------+------------+\n",
            "\n"
          ]
        }
      ],
      "source": [
        "df_swim = df.filter(df.sports == 'Swimming') # filtering the dataset for swimming sport\n",
        "df_swim.groupBy('country').agg(sum('total_medal').alias('Total Medals')).sort('Total Medals',ascending=False).show(df.select('country').count()) # using groupby and sum on country and total medal respectively "
      ]
    },
    {
      "cell_type": "markdown",
      "metadata": {
        "id": "eEPXJOwrV2z2"
      },
      "source": [
        "#### 6. Find the total number of medals won by each country in Skeleton."
      ]
    },
    {
      "cell_type": "code",
      "execution_count": null,
      "metadata": {
        "colab": {
          "base_uri": "https://localhost:8080/"
        },
        "id": "nlVLjeGgV41Y",
        "outputId": "1deb8796-4dd1-4daa-c698-40703e784136"
      },
      "outputs": [
        {
          "name": "stdout",
          "output_type": "stream",
          "text": [
            "+-------------+----------------+\n",
            "|      country|sum(total_medal)|\n",
            "+-------------+----------------+\n",
            "|       Canada|               4|\n",
            "|Great Britain|               3|\n",
            "|  Switzerland|               3|\n",
            "|United States|               3|\n",
            "|      Germany|               2|\n",
            "|       Russia|               1|\n",
            "|      Austria|               1|\n",
            "|       Latvia|               1|\n",
            "+-------------+----------------+\n",
            "\n"
          ]
        }
      ],
      "source": [
        "df_skel = df.filter(df.sports == 'Skeleton') # filtering the dataset for skeleton sport\n",
        "df_skel.groupBy('country').sum('total_medal').orderBy('sum(total_medal)',ascending=False).show() # using groupby and sum on country and total medal respectively "
      ]
    },
    {
      "cell_type": "markdown",
      "metadata": {
        "id": "UoYUrp35WVB_"
      },
      "source": [
        "#### 7. Find the number of medals that the US won yearly."
      ]
    },
    {
      "cell_type": "code",
      "execution_count": null,
      "metadata": {
        "colab": {
          "base_uri": "https://localhost:8080/"
        },
        "id": "wtTNFcBA2Gev",
        "outputId": "c67007a8-92c4-4259-b2bd-417832833332"
      },
      "outputs": [
        {
          "name": "stdout",
          "output_type": "stream",
          "text": [
            "+----+-------------+------------+\n",
            "|year|      country|Total Medals|\n",
            "+----+-------------+------------+\n",
            "|2000|United States|         243|\n",
            "|2002|United States|          84|\n",
            "|2004|United States|         265|\n",
            "|2006|United States|          52|\n",
            "|2008|United States|         317|\n",
            "|2010|United States|          97|\n",
            "|2012|United States|         254|\n",
            "+----+-------------+------------+\n",
            "\n"
          ]
        }
      ],
      "source": [
        " df.filter(df.country == 'United States').groupBy(['year','country']).agg(sum('total_medal').alias('Total Medals')).orderBy('year').show()"
      ]
    },
    {
      "cell_type": "code",
      "execution_count": null,
      "metadata": {
        "colab": {
          "base_uri": "https://localhost:8080/"
        },
        "id": "wIrJLxijWZH2",
        "outputId": "34e3ba7a-2e85-4b73-d816-fd7bebe5087b"
      },
      "outputs": [
        {
          "name": "stdout",
          "output_type": "stream",
          "text": [
            "+----+-------------+------------+\n",
            "|Year|      Country|Total Medals|\n",
            "+----+-------------+------------+\n",
            "|2000|United States|         243|\n",
            "+----+-------------+------------+\n",
            "\n",
            "+----+-------------+------------+\n",
            "|Year|      Country|Total Medals|\n",
            "+----+-------------+------------+\n",
            "|2002|United States|          84|\n",
            "+----+-------------+------------+\n",
            "\n",
            "+----+-------------+------------+\n",
            "|Year|      Country|Total Medals|\n",
            "+----+-------------+------------+\n",
            "|2004|United States|         265|\n",
            "+----+-------------+------------+\n",
            "\n",
            "+----+-------------+------------+\n",
            "|Year|      Country|Total Medals|\n",
            "+----+-------------+------------+\n",
            "|2006|United States|          52|\n",
            "+----+-------------+------------+\n",
            "\n",
            "+----+-------------+------------+\n",
            "|Year|      Country|Total Medals|\n",
            "+----+-------------+------------+\n",
            "|2008|United States|         317|\n",
            "+----+-------------+------------+\n",
            "\n",
            "+----+-------------+------------+\n",
            "|Year|      Country|Total Medals|\n",
            "+----+-------------+------------+\n",
            "|2010|United States|          97|\n",
            "+----+-------------+------------+\n",
            "\n",
            "+----+-------------+------------+\n",
            "|Year|      Country|Total Medals|\n",
            "+----+-------------+------------+\n",
            "|2012|United States|         254|\n",
            "+----+-------------+------------+\n",
            "\n"
          ]
        }
      ],
      "source": [
        "# for i in df.select('year').distinct().orderBy('year').collect(): # getting the distinct years in sorted order and iterating\n",
        "#   df_temp = df.filter((df.year == i.year) & (df.country == 'United States')) # filtering the data for every olympic year and united states country\n",
        "#   df_temp_res = df_temp.groupBy('country').agg(sum('total_medal').alias('Total Medals')) # using groupby and sum on country and total medal respectively \n",
        "#   df_temp_res.withColumn('Year', lit(i.year)).select('Year','Country','Total Medals').show() # adding year column to the output"
      ]
    },
    {
      "cell_type": "markdown",
      "metadata": {
        "id": "sab2RnTUfQ7E"
      },
      "source": [
        "#### 8. Find the total number of medals won by each country."
      ]
    },
    {
      "cell_type": "code",
      "execution_count": null,
      "metadata": {
        "colab": {
          "base_uri": "https://localhost:8080/"
        },
        "id": "s0ZM32UofWxo",
        "outputId": "47fdd81f-3a13-4400-ea43-4ee086bd4108"
      },
      "outputs": [
        {
          "name": "stdout",
          "output_type": "stream",
          "text": [
            "+-------------+------------+\n",
            "|      country|Total Medals|\n",
            "+-------------+------------+\n",
            "|United States|        1312|\n",
            "|       Russia|         768|\n",
            "|      Germany|         629|\n",
            "|    Australia|         609|\n",
            "|        China|         530|\n",
            "|       Canada|         370|\n",
            "|        Italy|         331|\n",
            "|Great Britain|         322|\n",
            "|       France|         318|\n",
            "|  Netherlands|         318|\n",
            "|  South Korea|         308|\n",
            "|        Japan|         282|\n",
            "|       Brazil|         221|\n",
            "|        Spain|         205|\n",
            "|       Norway|         192|\n",
            "|         Cuba|         188|\n",
            "|       Sweden|         181|\n",
            "|      Hungary|         145|\n",
            "|      Ukraine|         143|\n",
            "|    Argentina|         141|\n",
            "+-------------+------------+\n",
            "only showing top 20 rows\n",
            "\n"
          ]
        }
      ],
      "source": [
        "df.groupBy('country').agg(sum('total_medal').alias('Total Medals')).orderBy('Total Medals',ascending=False).show() # using groupby and sum on country and total medal respectively and using orderby on total medals in ascending order"
      ]
    },
    {
      "cell_type": "markdown",
      "metadata": {
        "id": "HzVKQGdWgLCt"
      },
      "source": [
        "#### 9. Who was the oldest athlete in the olympics?"
      ]
    },
    {
      "cell_type": "code",
      "execution_count": null,
      "metadata": {
        "colab": {
          "base_uri": "https://localhost:8080/"
        },
        "id": "xFrejvp8gOwq",
        "outputId": "ad1c920f-a182-4fff-8dec-1abb412d4528"
      },
      "outputs": [
        {
          "name": "stdout",
          "output_type": "stream",
          "text": [
            "+----------+---+-------+----+----------+----------+----------+------------+-----------+-----------+\n",
            "|      name|age|country|year|Date_Given|    sports|gold_medal|silver_medal|brone_medal|total_medal|\n",
            "+----------+---+-------+----+----------+----------+----------+------------+-----------+-----------+\n",
            "|Ian Millar| 61| Canada|2008|2008-08-24|Equestrian|         0|           1|          0|          1|\n",
            "+----------+---+-------+----+----------+----------+----------+------------+-----------+-----------+\n",
            "\n"
          ]
        }
      ],
      "source": [
        "old_ath = df.filter(df.age == df.agg(max('age')).collect()[0][0]) # using max function on age column to find the oldest athlete and filtering the data to find the name of the oldest athlete\n",
        "old_ath.show()"
      ]
    },
    {
      "cell_type": "markdown",
      "metadata": {
        "id": "Fgwr59E6jkVz"
      },
      "source": [
        "Ian Millar is the oldest athlete in the olympics"
      ]
    },
    {
      "cell_type": "markdown",
      "metadata": {
        "id": "_EvwrYM_jDxk"
      },
      "source": [
        "#### 10.Which country was he/she from?"
      ]
    },
    {
      "cell_type": "code",
      "execution_count": null,
      "metadata": {
        "colab": {
          "base_uri": "https://localhost:8080/"
        },
        "id": "Rz-ktPPcjMpF",
        "outputId": "74a87f3f-0c08-4a5d-d45d-ccfe64ff2eed"
      },
      "outputs": [
        {
          "name": "stdout",
          "output_type": "stream",
          "text": [
            "+----------+-------+\n",
            "|      name|country|\n",
            "+----------+-------+\n",
            "|Ian Millar| Canada|\n",
            "+----------+-------+\n",
            "\n"
          ]
        }
      ],
      "source": [
        "old_ath.select('name','country').show() # using the previous step's variable/dataframe and selecting name and country column"
      ]
    },
    {
      "cell_type": "markdown",
      "metadata": {
        "id": "E9RnVNbdjqWJ"
      },
      "source": [
        "Ian Millar is from Canada"
      ]
    }
  ],
  "metadata": {
    "accelerator": "GPU",
    "colab": {
      "collapsed_sections": [],
      "name": "Shailesh_Capstone_Project_PySpark.ipynb",
      "provenance": []
    },
    "gpuClass": "standard",
    "kernelspec": {
      "display_name": "Python 3.9.6 64-bit",
      "language": "python",
      "name": "python3"
    },
    "language_info": {
      "name": "python",
      "version": "3.9.6"
    },
    "vscode": {
      "interpreter": {
        "hash": "64b410468d8a567e4405f000deb31db7b928dd735c469b5a21694300fc30fc78"
      }
    }
  },
  "nbformat": 4,
  "nbformat_minor": 0
}
